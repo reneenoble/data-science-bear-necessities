{
 "cells": [
  {
   "cell_type": "markdown",
   "metadata": {},
   "source": [
    "# Get started with data in Pandas"
   ]
  },
  {
   "cell_type": "code",
   "execution_count": null,
   "metadata": {},
   "outputs": [],
   "source": [
    "import pandas as pd \n",
    "# Install Pandas and Matplotlib from requirements.txt\n",
    "# in the terminal run...\n",
    "# pip install -r requirements.txt"
   ]
  },
  {
   "cell_type": "code",
   "execution_count": null,
   "metadata": {},
   "outputs": [],
   "source": [
    "# Create a Pandas data frame to store and use our koala data\n",
    "koala_data = pd.read_csv('koala_sightings_data.csv') \n",
    "print(koala_data.shape)\n",
    "\n",
    "# Tell us about our data\n",
    "print(koala_data.info())"
   ]
  },
  {
   "cell_type": "markdown",
   "metadata": {},
   "source": [
    "# Explore your data"
   ]
  },
  {
   "cell_type": "code",
   "execution_count": null,
   "metadata": {},
   "outputs": [],
   "source": [
    "# Get just the column names\n",
    "print(koala_data.columns)\n",
    "\n",
    "#How many locations are we looking at?\n",
    "print(koala_data.LGA.unique())"
   ]
  },
  {
   "cell_type": "code",
   "execution_count": null,
   "metadata": {},
   "outputs": [],
   "source": [
    "# Filter for only the results that are in the Gold Coast\n",
    "golden_koalas = koala_data.loc[koala_data[\"LGA\"] == \"Gold Coast\"]\n",
    "print(golden_koalas)"
   ]
  },
  {
   "cell_type": "code",
   "execution_count": null,
   "metadata": {},
   "outputs": [],
   "source": [
    "# Save that data for later\n",
    "golden_koalas.to_csv(\"golden_koalas.csv\")\n",
    "\n",
    "#How many locations are we looking at?\n",
    "print(koala_data.LGA.unique())"
   ]
  },
  {
   "cell_type": "markdown",
   "metadata": {},
   "source": [
    "# Visualise data\n",
    "\n",
    "## Do koalas like tall trees?"
   ]
  },
  {
   "cell_type": "code",
   "execution_count": 6,
   "metadata": {},
   "outputs": [],
   "source": [
    "# Prepare tree/koala height data\n",
    "\n",
    "tree_heights = koala_data['HeightOfTree_m']\n",
    "koala_heights = koala_data['HeightOfKoalaInTree_m']\n",
    "\n",
    "print(koala_heights)"
   ]
  },
  {
   "cell_type": "code",
   "execution_count": null,
   "metadata": {},
   "outputs": [],
   "source": [
    "# Create a scatter plot to relate tree height to koala height in tree\n",
    "\n",
    "import matplotlib.pyplot as plt\n",
    "\n",
    "plt.scatter(koala_heights, tree_heights)\n",
    "\n",
    "plt.title('Koala tree position vs Tree height')\n",
    "plt.xlabel('HeightOfKoalaInTree_m')\n",
    "plt.ylabel('HeightOfTree_m')"
   ]
  },
  {
   "cell_type": "markdown",
   "metadata": {},
   "source": [
    "## Where are the koalas?"
   ]
  },
  {
   "cell_type": "code",
   "execution_count": null,
   "metadata": {},
   "outputs": [],
   "source": [
    "# For each LGA count how many sightings there are \n",
    "koala_sighting_count = koala_data.groupby('LGA')[\"_id\"].count()\n",
    "\n",
    "print(koala_sighting_count)"
   ]
  },
  {
   "cell_type": "code",
   "execution_count": null,
   "metadata": {},
   "outputs": [],
   "source": [
    "# Make the bar chart\n",
    "import matplotlib.pyplot  as plt\n",
    "\n",
    "# Sepearate the data for the X and Y axis\n",
    "lgas = koala_sighting_count.keys()\n",
    "counts = koala_sighting_count.values\n",
    "\n",
    "# Make it a vertical bar chart\n",
    "plt.bar(lgas, counts)\n",
    "\n",
    "plt.title('Koala Sightings By LGA')\n",
    "plt.xlabel('LGAs')\n",
    "plt.ylabel('Koala Sightings')\n",
    "\n",
    "plt.xticks(rotation = 45)\n",
    "\n",
    "plt.show()"
   ]
  },
  {
   "cell_type": "markdown",
   "metadata": {},
   "source": [
    "## How tall are the trees in each LGA?"
   ]
  },
  {
   "cell_type": "code",
   "execution_count": null,
   "metadata": {},
   "outputs": [],
   "source": [
    "# Get the 2 series of data\n",
    "tree_heights_mean = koala_data.groupby('LGA')[\"HeightOfTree_m\"].mean()\n",
    "\n",
    "# Plot a column graph - height of trees\n",
    "fig, ax = plt.subplots() # This is a different way to set up your plots to do fancier stuff!\n",
    "x = tree_heights_mean.keys()\n",
    "y = tree_heights_mean.values\n",
    "hbars = ax.bar(x, y, color=\"#99926d\")\n",
    "\n",
    "# axies labels, etc\n",
    "plt.xticks(rotation = 90)\n",
    "plt.xlabel('LGAs')\n",
    "plt.ylabel('Tree/Koala in tree height')\n",
    "\n",
    "plt.show()"
   ]
  },
  {
   "cell_type": "markdown",
   "metadata": {},
   "source": [
    "## How high are the koalas in each LGA?"
   ]
  },
  {
   "cell_type": "code",
   "execution_count": null,
   "metadata": {},
   "outputs": [],
   "source": [
    "# Get the 2 series of data\n",
    "tree_heights_mean = koala_data.groupby('LGA')[\"HeightOfTree_m\"].mean()\n",
    "koala_in_tree_heights_mean = koala_data.groupby('LGA')[\"HeightOfKoalaInTree_m\"].mean()\n",
    "\n",
    "# Plot a column graph - height of trees\n",
    "fig, ax = plt.subplots()\n",
    "x = tree_heights_mean.keys()\n",
    "y = tree_heights_mean.values\n",
    "hbars = ax.bar(x, y, color=\"#99926d\")\n",
    "\n",
    "# Plot a scatter plot - height of Koalas\n",
    "k_x = koala_in_tree_heights_mean.keys()\n",
    "k_y = koala_in_tree_heights_mean.values\n",
    "plt.scatter(k_x, k_y, color=\"#a0a2b0\", s=200)\n",
    "\n",
    "# plt.scatter(k_x, k_y, marker=\"$\\U0001F43C$\", s=300)\n",
    "# Koala Unicode\n",
    "# \"$\\U0001F428$\"\n",
    "# altenrate unicode\n",
    "# \"$\\U0001F431$\"\n",
    "\n",
    "\n",
    "# axis labels, etc\n",
    "plt.xticks(rotation = 90)\n",
    "plt.title('Koala and tree heights by LGA')\n",
    "plt.xlabel('LGAs')\n",
    "plt.ylabel('Tree/Koala in tree height')\n",
    "\n",
    "plt.show()"
   ]
  }
 ],
 "metadata": {
  "kernelspec": {
   "display_name": "Python 3",
   "language": "python",
   "name": "python3"
  },
  "language_info": {
   "codemirror_mode": {
    "name": "ipython",
    "version": 3
   },
   "file_extension": ".py",
   "mimetype": "text/x-python",
   "name": "python",
   "nbconvert_exporter": "python",
   "pygments_lexer": "ipython3",
   "version": "3.10.13"
  }
 },
 "nbformat": 4,
 "nbformat_minor": 2
}
